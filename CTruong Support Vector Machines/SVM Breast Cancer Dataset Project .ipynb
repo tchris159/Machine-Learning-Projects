{
 "cells": [
  {
   "cell_type": "markdown",
   "metadata": {},
   "source": [
    "# Support Vector Machines With Python"
   ]
  },
  {
   "cell_type": "markdown",
   "metadata": {},
   "source": [
    "In this project, I explore Machine Learning on the breast cancer data set from scikit learn. The initial Support Vector Machine performs very poorly, and through the use of a grid search, I optimize the SVC model to ~95% accuracy after finding the best paramaters of C and gamma. The final SVC model helps to predict with high accuracy of our target class (binary classification) of whether there is presence of a benign or malignant tumor."
   ]
  },
  {
   "cell_type": "code",
   "execution_count": 12,
   "metadata": {
    "collapsed": true
   },
   "outputs": [],
   "source": [
    "import pandas as pd\n",
    "import numpy as np\n",
    "import matplotlib.pyplot as plt\n",
    "import seaborn as sns\n",
    "%matplotlib inline\n"
   ]
  },
  {
   "cell_type": "code",
   "execution_count": 13,
   "metadata": {
    "collapsed": true
   },
   "outputs": [],
   "source": [
    "from sklearn.datasets import load_breast_cancer"
   ]
  },
  {
   "cell_type": "code",
   "execution_count": 14,
   "metadata": {
    "collapsed": true
   },
   "outputs": [],
   "source": [
    "cancer = load_breast_cancer()"
   ]
  },
  {
   "cell_type": "code",
   "execution_count": 15,
   "metadata": {},
   "outputs": [
    {
     "data": {
      "text/plain": [
       "dict_keys(['target', 'target_names', 'DESCR', 'data', 'feature_names'])"
      ]
     },
     "execution_count": 15,
     "metadata": {},
     "output_type": "execute_result"
    }
   ],
   "source": [
    "cancer.keys()"
   ]
  },
  {
   "cell_type": "code",
   "execution_count": 16,
   "metadata": {},
   "outputs": [
    {
     "name": "stdout",
     "output_type": "stream",
     "text": [
      "Breast Cancer Wisconsin (Diagnostic) Database\n",
      "=============================================\n",
      "\n",
      "Notes\n",
      "-----\n",
      "Data Set Characteristics:\n",
      "    :Number of Instances: 569\n",
      "\n",
      "    :Number of Attributes: 30 numeric, predictive attributes and the class\n",
      "\n",
      "    :Attribute Information:\n",
      "        - radius (mean of distances from center to points on the perimeter)\n",
      "        - texture (standard deviation of gray-scale values)\n",
      "        - perimeter\n",
      "        - area\n",
      "        - smoothness (local variation in radius lengths)\n",
      "        - compactness (perimeter^2 / area - 1.0)\n",
      "        - concavity (severity of concave portions of the contour)\n",
      "        - concave points (number of concave portions of the contour)\n",
      "        - symmetry \n",
      "        - fractal dimension (\"coastline approximation\" - 1)\n",
      "\n",
      "        The mean, standard error, and \"worst\" or largest (mean of the three\n",
      "        largest values) of these features were computed for each image,\n",
      "        resulting in 30 features.  For instance, field 3 is Mean Radius, field\n",
      "        13 is Radius SE, field 23 is Worst Radius.\n",
      "\n",
      "        - class:\n",
      "                - WDBC-Malignant\n",
      "                - WDBC-Benign\n",
      "\n",
      "    :Summary Statistics:\n",
      "\n",
      "    ===================================== ====== ======\n",
      "                                           Min    Max\n",
      "    ===================================== ====== ======\n",
      "    radius (mean):                        6.981  28.11\n",
      "    texture (mean):                       9.71   39.28\n",
      "    perimeter (mean):                     43.79  188.5\n",
      "    area (mean):                          143.5  2501.0\n",
      "    smoothness (mean):                    0.053  0.163\n",
      "    compactness (mean):                   0.019  0.345\n",
      "    concavity (mean):                     0.0    0.427\n",
      "    concave points (mean):                0.0    0.201\n",
      "    symmetry (mean):                      0.106  0.304\n",
      "    fractal dimension (mean):             0.05   0.097\n",
      "    radius (standard error):              0.112  2.873\n",
      "    texture (standard error):             0.36   4.885\n",
      "    perimeter (standard error):           0.757  21.98\n",
      "    area (standard error):                6.802  542.2\n",
      "    smoothness (standard error):          0.002  0.031\n",
      "    compactness (standard error):         0.002  0.135\n",
      "    concavity (standard error):           0.0    0.396\n",
      "    concave points (standard error):      0.0    0.053\n",
      "    symmetry (standard error):            0.008  0.079\n",
      "    fractal dimension (standard error):   0.001  0.03\n",
      "    radius (worst):                       7.93   36.04\n",
      "    texture (worst):                      12.02  49.54\n",
      "    perimeter (worst):                    50.41  251.2\n",
      "    area (worst):                         185.2  4254.0\n",
      "    smoothness (worst):                   0.071  0.223\n",
      "    compactness (worst):                  0.027  1.058\n",
      "    concavity (worst):                    0.0    1.252\n",
      "    concave points (worst):               0.0    0.291\n",
      "    symmetry (worst):                     0.156  0.664\n",
      "    fractal dimension (worst):            0.055  0.208\n",
      "    ===================================== ====== ======\n",
      "\n",
      "    :Missing Attribute Values: None\n",
      "\n",
      "    :Class Distribution: 212 - Malignant, 357 - Benign\n",
      "\n",
      "    :Creator:  Dr. William H. Wolberg, W. Nick Street, Olvi L. Mangasarian\n",
      "\n",
      "    :Donor: Nick Street\n",
      "\n",
      "    :Date: November, 1995\n",
      "\n",
      "This is a copy of UCI ML Breast Cancer Wisconsin (Diagnostic) datasets.\n",
      "https://goo.gl/U2Uwz2\n",
      "\n",
      "Features are computed from a digitized image of a fine needle\n",
      "aspirate (FNA) of a breast mass.  They describe\n",
      "characteristics of the cell nuclei present in the image.\n",
      "\n",
      "Separating plane described above was obtained using\n",
      "Multisurface Method-Tree (MSM-T) [K. P. Bennett, \"Decision Tree\n",
      "Construction Via Linear Programming.\" Proceedings of the 4th\n",
      "Midwest Artificial Intelligence and Cognitive Science Society,\n",
      "pp. 97-101, 1992], a classification method which uses linear\n",
      "programming to construct a decision tree.  Relevant features\n",
      "were selected using an exhaustive search in the space of 1-4\n",
      "features and 1-3 separating planes.\n",
      "\n",
      "The actual linear program used to obtain the separating plane\n",
      "in the 3-dimensional space is that described in:\n",
      "[K. P. Bennett and O. L. Mangasarian: \"Robust Linear\n",
      "Programming Discrimination of Two Linearly Inseparable Sets\",\n",
      "Optimization Methods and Software 1, 1992, 23-34].\n",
      "\n",
      "This database is also available through the UW CS ftp server:\n",
      "\n",
      "ftp ftp.cs.wisc.edu\n",
      "cd math-prog/cpo-dataset/machine-learn/WDBC/\n",
      "\n",
      "References\n",
      "----------\n",
      "   - W.N. Street, W.H. Wolberg and O.L. Mangasarian. Nuclear feature extraction \n",
      "     for breast tumor diagnosis. IS&T/SPIE 1993 International Symposium on \n",
      "     Electronic Imaging: Science and Technology, volume 1905, pages 861-870,\n",
      "     San Jose, CA, 1993.\n",
      "   - O.L. Mangasarian, W.N. Street and W.H. Wolberg. Breast cancer diagnosis and \n",
      "     prognosis via linear programming. Operations Research, 43(4), pages 570-577, \n",
      "     July-August 1995.\n",
      "   - W.H. Wolberg, W.N. Street, and O.L. Mangasarian. Machine learning techniques\n",
      "     to diagnose breast cancer from fine-needle aspirates. Cancer Letters 77 (1994) \n",
      "     163-171.\n",
      "\n"
     ]
    }
   ],
   "source": [
    "print(cancer['DESCR'])"
   ]
  },
  {
   "cell_type": "code",
   "execution_count": 17,
   "metadata": {
    "collapsed": true
   },
   "outputs": [],
   "source": [
    "df_feat = pd.DataFrame(cancer['data'],columns=cancer['feature_names'])"
   ]
  },
  {
   "cell_type": "code",
   "execution_count": 18,
   "metadata": {},
   "outputs": [
    {
     "data": {
      "text/html": [
       "<div>\n",
       "<style scoped>\n",
       "    .dataframe tbody tr th:only-of-type {\n",
       "        vertical-align: middle;\n",
       "    }\n",
       "\n",
       "    .dataframe tbody tr th {\n",
       "        vertical-align: top;\n",
       "    }\n",
       "\n",
       "    .dataframe thead th {\n",
       "        text-align: right;\n",
       "    }\n",
       "</style>\n",
       "<table border=\"1\" class=\"dataframe\">\n",
       "  <thead>\n",
       "    <tr style=\"text-align: right;\">\n",
       "      <th></th>\n",
       "      <th>mean radius</th>\n",
       "      <th>mean texture</th>\n",
       "      <th>mean perimeter</th>\n",
       "      <th>mean area</th>\n",
       "      <th>mean smoothness</th>\n",
       "      <th>mean compactness</th>\n",
       "      <th>mean concavity</th>\n",
       "      <th>mean concave points</th>\n",
       "      <th>mean symmetry</th>\n",
       "      <th>mean fractal dimension</th>\n",
       "      <th>...</th>\n",
       "      <th>worst radius</th>\n",
       "      <th>worst texture</th>\n",
       "      <th>worst perimeter</th>\n",
       "      <th>worst area</th>\n",
       "      <th>worst smoothness</th>\n",
       "      <th>worst compactness</th>\n",
       "      <th>worst concavity</th>\n",
       "      <th>worst concave points</th>\n",
       "      <th>worst symmetry</th>\n",
       "      <th>worst fractal dimension</th>\n",
       "    </tr>\n",
       "  </thead>\n",
       "  <tbody>\n",
       "    <tr>\n",
       "      <th>0</th>\n",
       "      <td>17.99</td>\n",
       "      <td>10.38</td>\n",
       "      <td>122.8</td>\n",
       "      <td>1001.0</td>\n",
       "      <td>0.11840</td>\n",
       "      <td>0.27760</td>\n",
       "      <td>0.3001</td>\n",
       "      <td>0.14710</td>\n",
       "      <td>0.2419</td>\n",
       "      <td>0.07871</td>\n",
       "      <td>...</td>\n",
       "      <td>25.38</td>\n",
       "      <td>17.33</td>\n",
       "      <td>184.6</td>\n",
       "      <td>2019.0</td>\n",
       "      <td>0.1622</td>\n",
       "      <td>0.6656</td>\n",
       "      <td>0.7119</td>\n",
       "      <td>0.2654</td>\n",
       "      <td>0.4601</td>\n",
       "      <td>0.11890</td>\n",
       "    </tr>\n",
       "    <tr>\n",
       "      <th>1</th>\n",
       "      <td>20.57</td>\n",
       "      <td>17.77</td>\n",
       "      <td>132.9</td>\n",
       "      <td>1326.0</td>\n",
       "      <td>0.08474</td>\n",
       "      <td>0.07864</td>\n",
       "      <td>0.0869</td>\n",
       "      <td>0.07017</td>\n",
       "      <td>0.1812</td>\n",
       "      <td>0.05667</td>\n",
       "      <td>...</td>\n",
       "      <td>24.99</td>\n",
       "      <td>23.41</td>\n",
       "      <td>158.8</td>\n",
       "      <td>1956.0</td>\n",
       "      <td>0.1238</td>\n",
       "      <td>0.1866</td>\n",
       "      <td>0.2416</td>\n",
       "      <td>0.1860</td>\n",
       "      <td>0.2750</td>\n",
       "      <td>0.08902</td>\n",
       "    </tr>\n",
       "  </tbody>\n",
       "</table>\n",
       "<p>2 rows × 30 columns</p>\n",
       "</div>"
      ],
      "text/plain": [
       "   mean radius  mean texture  mean perimeter  mean area  mean smoothness  \\\n",
       "0        17.99         10.38           122.8     1001.0          0.11840   \n",
       "1        20.57         17.77           132.9     1326.0          0.08474   \n",
       "\n",
       "   mean compactness  mean concavity  mean concave points  mean symmetry  \\\n",
       "0           0.27760          0.3001              0.14710         0.2419   \n",
       "1           0.07864          0.0869              0.07017         0.1812   \n",
       "\n",
       "   mean fractal dimension           ...             worst radius  \\\n",
       "0                 0.07871           ...                    25.38   \n",
       "1                 0.05667           ...                    24.99   \n",
       "\n",
       "   worst texture  worst perimeter  worst area  worst smoothness  \\\n",
       "0          17.33            184.6      2019.0            0.1622   \n",
       "1          23.41            158.8      1956.0            0.1238   \n",
       "\n",
       "   worst compactness  worst concavity  worst concave points  worst symmetry  \\\n",
       "0             0.6656           0.7119                0.2654          0.4601   \n",
       "1             0.1866           0.2416                0.1860          0.2750   \n",
       "\n",
       "   worst fractal dimension  \n",
       "0                  0.11890  \n",
       "1                  0.08902  \n",
       "\n",
       "[2 rows x 30 columns]"
      ]
     },
     "execution_count": 18,
     "metadata": {},
     "output_type": "execute_result"
    }
   ],
   "source": [
    "df_feat.head(2)"
   ]
  },
  {
   "cell_type": "code",
   "execution_count": 19,
   "metadata": {},
   "outputs": [
    {
     "name": "stdout",
     "output_type": "stream",
     "text": [
      "<class 'pandas.core.frame.DataFrame'>\n",
      "RangeIndex: 569 entries, 0 to 568\n",
      "Data columns (total 30 columns):\n",
      "mean radius                569 non-null float64\n",
      "mean texture               569 non-null float64\n",
      "mean perimeter             569 non-null float64\n",
      "mean area                  569 non-null float64\n",
      "mean smoothness            569 non-null float64\n",
      "mean compactness           569 non-null float64\n",
      "mean concavity             569 non-null float64\n",
      "mean concave points        569 non-null float64\n",
      "mean symmetry              569 non-null float64\n",
      "mean fractal dimension     569 non-null float64\n",
      "radius error               569 non-null float64\n",
      "texture error              569 non-null float64\n",
      "perimeter error            569 non-null float64\n",
      "area error                 569 non-null float64\n",
      "smoothness error           569 non-null float64\n",
      "compactness error          569 non-null float64\n",
      "concavity error            569 non-null float64\n",
      "concave points error       569 non-null float64\n",
      "symmetry error             569 non-null float64\n",
      "fractal dimension error    569 non-null float64\n",
      "worst radius               569 non-null float64\n",
      "worst texture              569 non-null float64\n",
      "worst perimeter            569 non-null float64\n",
      "worst area                 569 non-null float64\n",
      "worst smoothness           569 non-null float64\n",
      "worst compactness          569 non-null float64\n",
      "worst concavity            569 non-null float64\n",
      "worst concave points       569 non-null float64\n",
      "worst symmetry             569 non-null float64\n",
      "worst fractal dimension    569 non-null float64\n",
      "dtypes: float64(30)\n",
      "memory usage: 133.4 KB\n"
     ]
    }
   ],
   "source": [
    "df_feat.info()"
   ]
  },
  {
   "cell_type": "code",
   "execution_count": 20,
   "metadata": {},
   "outputs": [
    {
     "data": {
      "text/plain": [
       "array(['malignant', 'benign'],\n",
       "      dtype='<U9')"
      ]
     },
     "execution_count": 20,
     "metadata": {},
     "output_type": "execute_result"
    }
   ],
   "source": [
    "cancer['target_names']"
   ]
  },
  {
   "cell_type": "markdown",
   "metadata": {},
   "source": [
    "# "
   ]
  },
  {
   "cell_type": "code",
   "execution_count": 24,
   "metadata": {},
   "outputs": [
    {
     "data": {
      "text/plain": [
       "<matplotlib.axes._subplots.AxesSubplot at 0x1a18e2ef60>"
      ]
     },
     "execution_count": 24,
     "metadata": {},
     "output_type": "execute_result"
    },
    {
     "data": {
      "image/png": "[encoded data removed]",
      "text/plain": [
       "<matplotlib.figure.Figure at 0x1a18d7ed30>"
      ]
     },
     "metadata": {},
     "output_type": "display_data"
    }
   ],
   "source": [
    "df_feat['worst symmetry'].hist(bins=30,color='red')"
   ]
  },
  {
   "cell_type": "code",
   "execution_count": 27,
   "metadata": {},
   "outputs": [
    {
     "data": {
      "text/plain": [
       "<matplotlib.axes._subplots.AxesSubplot at 0x1a19079d30>"
      ]
     },
     "execution_count": 27,
     "metadata": {},
     "output_type": "execute_result"
    },
    {
     "data": {
      "image/png": "[encoded data removed]",
      "text/plain": [
       "<matplotlib.figure.Figure at 0x1a190505c0>"
      ]
     },
     "metadata": {},
     "output_type": "display_data"
    }
   ],
   "source": [
    "df_feat['mean radius'].hist(bins=50,color='purple')"
   ]
  },
  {
   "cell_type": "code",
   "execution_count": 29,
   "metadata": {},
   "outputs": [
    {
     "data": {
      "text/plain": [
       "<matplotlib.axes._subplots.AxesSubplot at 0x1a1948b828>"
      ]
     },
     "execution_count": 29,
     "metadata": {},
     "output_type": "execute_result"
    },
    {
     "data": {
      "image/png": "[encoded data removed]",
      "text/plain": [
       "<matplotlib.figure.Figure at 0x1a10b0afd0>"
      ]
     },
     "metadata": {},
     "output_type": "display_data"
    }
   ],
   "source": [
    "sns.heatmap(df_feat,yticklabels=False,cbar=False,cmap='viridis')"
   ]
  },
  {
   "cell_type": "markdown",
   "metadata": {},
   "source": [
    "# Train Test Split"
   ]
  },
  {
   "cell_type": "code",
   "execution_count": 30,
   "metadata": {
    "collapsed": true
   },
   "outputs": [],
   "source": [
    "from sklearn.model_selection import train_test_split"
   ]
  },
  {
   "cell_type": "code",
   "execution_count": 39,
   "metadata": {
    "collapsed": true
   },
   "outputs": [],
   "source": [
    "X = df_feat\n",
    "y = cancer['target']\n",
    "\n",
    "X_train, X_test, y_train, y_test = train_test_split(X, y, test_size=0.3, random_state=101)"
   ]
  },
  {
   "cell_type": "code",
   "execution_count": 40,
   "metadata": {
    "collapsed": true
   },
   "outputs": [],
   "source": [
    "from sklearn.svm import SVC"
   ]
  },
  {
   "cell_type": "code",
   "execution_count": 41,
   "metadata": {
    "collapsed": true
   },
   "outputs": [],
   "source": [
    "model = SVC()"
   ]
  },
  {
   "cell_type": "code",
   "execution_count": 42,
   "metadata": {},
   "outputs": [
    {
     "data": {
      "text/plain": [
       "SVC(C=1.0, cache_size=200, class_weight=None, coef0=0.0,\n",
       "  decision_function_shape='ovr', degree=3, gamma='auto', kernel='rbf',\n",
       "  max_iter=-1, probability=False, random_state=None, shrinking=True,\n",
       "  tol=0.001, verbose=False)"
      ]
     },
     "execution_count": 42,
     "metadata": {},
     "output_type": "execute_result"
    }
   ],
   "source": [
    "model.fit(X_train,y_train)"
   ]
  },
  {
   "cell_type": "code",
   "execution_count": 46,
   "metadata": {
    "collapsed": true
   },
   "outputs": [],
   "source": [
    "predictions = model.predict(X_test)"
   ]
  },
  {
   "cell_type": "code",
   "execution_count": 47,
   "metadata": {
    "collapsed": true
   },
   "outputs": [],
   "source": [
    "from sklearn.metrics import classification_report,confusion_matrix"
   ]
  },
  {
   "cell_type": "code",
   "execution_count": 48,
   "metadata": {},
   "outputs": [
    {
     "name": "stdout",
     "output_type": "stream",
     "text": [
      "[[  0  66]\n",
      " [  0 105]]\n",
      "             precision    recall  f1-score   support\n",
      "\n",
      "          0       0.00      0.00      0.00        66\n",
      "          1       0.61      1.00      0.76       105\n",
      "\n",
      "avg / total       0.38      0.61      0.47       171\n",
      "\n"
     ]
    },
    {
     "name": "stderr",
     "output_type": "stream",
     "text": [
      "/Users/ChristopherTruong/anaconda/lib/python3.5/site-packages/sklearn/metrics/classification.py:1135: UndefinedMetricWarning: Precision and F-score are ill-defined and being set to 0.0 in labels with no predicted samples.\n",
      "  'precision', 'predicted', average, warn_for)\n"
     ]
    }
   ],
   "source": [
    "print(confusion_matrix(y_test,predictions))\n",
    "print(classification_report(y_test,predictions))"
   ]
  },
  {
   "cell_type": "markdown",
   "metadata": {},
   "source": [
    "After training our model, it predicted that no tumors were in the zero class. It predicted everything belonging to class 1. Our model needs its parameter adjusted and normalized. To find the right parameters we need to use a grid search. This will help us find the right parameters for C or Gamma values. "
   ]
  },
  {
   "cell_type": "code",
   "execution_count": 49,
   "metadata": {
    "collapsed": true
   },
   "outputs": [],
   "source": [
    "from sklearn.grid_search import GridSearchCV"
   ]
  },
  {
   "cell_type": "markdown",
   "metadata": {},
   "source": [
    "grid search cv takes in a dictionary that describes the parameters that should be tried and a model to train. the grid of parameters is defined as a dictionary where the keys are parameters and the values are list of settings to be tested.\n",
    "\n",
    "C controls the cost of misclassification on the training data. A large C value low bias and high variance. Low bias because you penalize the cost of misclassification a lot with a larger c value. With a smaller C value you're not going to penalize as much so there's a higher balance and lower variance\n",
    "\n"
   ]
  },
  {
   "cell_type": "code",
   "execution_count": 52,
   "metadata": {
    "collapsed": true
   },
   "outputs": [],
   "source": [
    "param_grid = {'C':[0.1,1,10,100,1000],'gamma':[1,0.1,0.01,0.001,0.0001]}"
   ]
  },
  {
   "cell_type": "code",
   "execution_count": 53,
   "metadata": {
    "collapsed": true
   },
   "outputs": [],
   "source": [
    "grid = GridSearchCV(SVC(),param_grid,verbose=3) #verbose is text description of model"
   ]
  },
  {
   "cell_type": "code",
   "execution_count": 54,
   "metadata": {},
   "outputs": [
    {
     "name": "stdout",
     "output_type": "stream",
     "text": [
      "Fitting 3 folds for each of 25 candidates, totalling 75 fits\n",
      "[CV] gamma=1, C=0.1 ..................................................\n",
      "[CV] ......................... gamma=1, C=0.1, score=0.631579 -   0.0s\n",
      "[CV] gamma=1, C=0.1 ..................................................\n",
      "[CV] ......................... gamma=1, C=0.1, score=0.631579 -   0.0s\n",
      "[CV] gamma=1, C=0.1 ..................................................\n",
      "[CV] ......................... gamma=1, C=0.1, score=0.636364 -   0.0s\n",
      "[CV] gamma=0.1, C=0.1 ................................................\n",
      "[CV] ....................... gamma=0.1, C=0.1, score=0.631579 -   0.0s\n",
      "[CV] gamma=0.1, C=0.1 ................................................\n",
      "[CV] ....................... gamma=0.1, C=0.1, score=0.631579 -   0.0s\n",
      "[CV] gamma=0.1, C=0.1 ................................................\n",
      "[CV] ....................... gamma=0.1, C=0.1, score=0.636364 -   0.0s\n",
      "[CV] gamma=0.01, C=0.1 ...............................................\n",
      "[CV] ...................... gamma=0.01, C=0.1, score=0.631579 -   0.0s\n",
      "[CV] gamma=0.01, C=0.1 ...............................................\n",
      "[CV] ...................... gamma=0.01, C=0.1, score=0.631579 -   0.0s"
     ]
    },
    {
     "name": "stderr",
     "output_type": "stream",
     "text": [
      "[Parallel(n_jobs=1)]: Done   1 out of   1 | elapsed:    0.0s remaining:    0.0s\n",
      "[Parallel(n_jobs=1)]: Done   2 out of   2 | elapsed:    0.1s remaining:    0.0s\n"
     ]
    },
    {
     "name": "stdout",
     "output_type": "stream",
     "text": [
      "\n",
      "[CV] gamma=0.01, C=0.1 ...............................................\n",
      "[CV] ...................... gamma=0.01, C=0.1, score=0.636364 -   0.0s\n",
      "[CV] gamma=0.001, C=0.1 ..............................................\n",
      "[CV] ..................... gamma=0.001, C=0.1, score=0.631579 -   0.0s\n",
      "[CV] gamma=0.001, C=0.1 ..............................................\n",
      "[CV] ..................... gamma=0.001, C=0.1, score=0.631579 -   0.0s\n",
      "[CV] gamma=0.001, C=0.1 ..............................................\n",
      "[CV] ..................... gamma=0.001, C=0.1, score=0.636364 -   0.0s\n",
      "[CV] gamma=0.0001, C=0.1 .............................................\n",
      "[CV] .................... gamma=0.0001, C=0.1, score=0.902256 -   0.0s\n",
      "[CV] gamma=0.0001, C=0.1 .............................................\n",
      "[CV] .................... gamma=0.0001, C=0.1, score=0.962406 -   0.0s\n",
      "[CV] gamma=0.0001, C=0.1 .............................................\n",
      "[CV] .................... gamma=0.0001, C=0.1, score=0.916667 -   0.0s\n",
      "[CV] gamma=1, C=1 ....................................................\n",
      "[CV] ........................... gamma=1, C=1, score=0.631579 -   0.0s\n",
      "[CV] gamma=1, C=1 ....................................................\n",
      "[CV] ........................... gamma=1, C=1, score=0.631579 -   0.0s\n",
      "[CV] gamma=1, C=1 ....................................................\n",
      "[CV] ........................... gamma=1, C=1, score=0.636364 -   0.0s\n",
      "[CV] gamma=0.1, C=1 ..................................................\n",
      "[CV] ......................... gamma=0.1, C=1, score=0.631579 -   0.0s\n",
      "[CV] gamma=0.1, C=1 ..................................................\n",
      "[CV] ......................... gamma=0.1, C=1, score=0.631579 -   0.0s\n",
      "[CV] gamma=0.1, C=1 ..................................................\n",
      "[CV] ......................... gamma=0.1, C=1, score=0.636364 -   0.0s\n",
      "[CV] gamma=0.01, C=1 .................................................\n",
      "[CV] ........................ gamma=0.01, C=1, score=0.631579 -   0.0s\n",
      "[CV] gamma=0.01, C=1 .................................................\n",
      "[CV] ........................ gamma=0.01, C=1, score=0.631579 -   0.0s\n",
      "[CV] gamma=0.01, C=1 .................................................\n",
      "[CV] ........................ gamma=0.01, C=1, score=0.636364 -   0.0s\n",
      "[CV] gamma=0.001, C=1 ................................................\n",
      "[CV] ....................... gamma=0.001, C=1, score=0.902256 -   0.0s\n",
      "[CV] gamma=0.001, C=1 ................................................\n",
      "[CV] ....................... gamma=0.001, C=1, score=0.939850 -   0.0s\n",
      "[CV] gamma=0.001, C=1 ................................................\n",
      "[CV] ....................... gamma=0.001, C=1, score=0.954545 -   0.0s\n",
      "[CV] gamma=0.0001, C=1 ...............................................\n",
      "[CV] ...................... gamma=0.0001, C=1, score=0.939850 -   0.0s\n",
      "[CV] gamma=0.0001, C=1 ...............................................\n",
      "[CV] ...................... gamma=0.0001, C=1, score=0.969925 -   0.0s\n",
      "[CV] gamma=0.0001, C=1 ...............................................\n",
      "[CV] ...................... gamma=0.0001, C=1, score=0.946970 -   0.0s\n",
      "[CV] gamma=1, C=10 ...................................................\n",
      "[CV] .......................... gamma=1, C=10, score=0.631579 -   0.0s\n",
      "[CV] gamma=1, C=10 ...................................................\n",
      "[CV] .......................... gamma=1, C=10, score=0.631579 -   0.0s\n",
      "[CV] gamma=1, C=10 ...................................................\n",
      "[CV] .......................... gamma=1, C=10, score=0.636364 -   0.0s\n",
      "[CV] gamma=0.1, C=10 .................................................\n",
      "[CV] ........................ gamma=0.1, C=10, score=0.631579 -   0.0s\n",
      "[CV] gamma=0.1, C=10 .................................................\n",
      "[CV] ........................ gamma=0.1, C=10, score=0.631579 -   0.0s\n",
      "[CV] gamma=0.1, C=10 .................................................\n",
      "[CV] ........................ gamma=0.1, C=10, score=0.636364 -   0.0s\n",
      "[CV] gamma=0.01, C=10 ................................................\n",
      "[CV] ....................... gamma=0.01, C=10, score=0.631579 -   0.0s\n",
      "[CV] gamma=0.01, C=10 ................................................\n",
      "[CV] ....................... gamma=0.01, C=10, score=0.631579 -   0.0s\n",
      "[CV] gamma=0.01, C=10 ................................................\n",
      "[CV] ....................... gamma=0.01, C=10, score=0.636364 -   0.0s\n",
      "[CV] gamma=0.001, C=10 ...............................................\n",
      "[CV] ...................... gamma=0.001, C=10, score=0.894737 -   0.0s\n",
      "[CV] gamma=0.001, C=10 ...............................................\n",
      "[CV] ...................... gamma=0.001, C=10, score=0.932331 -   0.0s\n",
      "[CV] gamma=0.001, C=10 ...............................................\n",
      "[CV] ...................... gamma=0.001, C=10, score=0.916667 -   0.0s\n",
      "[CV] gamma=0.0001, C=10 ..............................................\n",
      "[CV] ..................... gamma=0.0001, C=10, score=0.932331 -   0.0s\n",
      "[CV] gamma=0.0001, C=10 ..............................................\n",
      "[CV] ..................... gamma=0.0001, C=10, score=0.969925 -   0.0s\n",
      "[CV] gamma=0.0001, C=10 ..............................................\n",
      "[CV] ..................... gamma=0.0001, C=10, score=0.962121 -   0.0s\n",
      "[CV] gamma=1, C=100 ..................................................\n",
      "[CV] ......................... gamma=1, C=100, score=0.631579 -   0.0s\n",
      "[CV] gamma=1, C=100 ..................................................\n",
      "[CV] ......................... gamma=1, C=100, score=0.631579 -   0.0s\n",
      "[CV] gamma=1, C=100 ..................................................\n",
      "[CV] ......................... gamma=1, C=100, score=0.636364 -   0.0s\n",
      "[CV] gamma=0.1, C=100 ................................................\n",
      "[CV] ....................... gamma=0.1, C=100, score=0.631579 -   0.0s\n",
      "[CV] gamma=0.1, C=100 ................................................\n",
      "[CV] ....................... gamma=0.1, C=100, score=0.631579 -   0.0s\n",
      "[CV] gamma=0.1, C=100 ................................................\n",
      "[CV] ....................... gamma=0.1, C=100, score=0.636364 -   0.0s\n",
      "[CV] gamma=0.01, C=100 ...............................................\n",
      "[CV] ...................... gamma=0.01, C=100, score=0.631579 -   0.0s\n",
      "[CV] gamma=0.01, C=100 ...............................................\n",
      "[CV] ...................... gamma=0.01, C=100, score=0.631579 -   0.0s\n",
      "[CV] gamma=0.01, C=100 ...............................................\n",
      "[CV] ...................... gamma=0.01, C=100, score=0.636364 -   0.0s\n",
      "[CV] gamma=0.001, C=100 ..............................................\n",
      "[CV] ..................... gamma=0.001, C=100, score=0.894737 -   0.0s\n",
      "[CV] gamma=0.001, C=100 ..............................................\n",
      "[CV] ..................... gamma=0.001, C=100, score=0.932331 -   0.0s\n",
      "[CV] gamma=0.001, C=100 ..............................................\n",
      "[CV] ..................... gamma=0.001, C=100, score=0.916667 -   0.0s\n",
      "[CV] gamma=0.0001, C=100 .............................................\n",
      "[CV] .................... gamma=0.0001, C=100, score=0.917293 -   0.0s\n",
      "[CV] gamma=0.0001, C=100 .............................................\n",
      "[CV] .................... gamma=0.0001, C=100, score=0.977444 -   0.0s\n",
      "[CV] gamma=0.0001, C=100 .............................................\n",
      "[CV] .................... gamma=0.0001, C=100, score=0.939394 -   0.0s\n",
      "[CV] gamma=1, C=1000 .................................................\n",
      "[CV] ........................ gamma=1, C=1000, score=0.631579 -   0.0s\n",
      "[CV] gamma=1, C=1000 .................................................\n",
      "[CV] ........................ gamma=1, C=1000, score=0.631579 -   0.0s\n",
      "[CV] gamma=1, C=1000 .................................................\n",
      "[CV] ........................ gamma=1, C=1000, score=0.636364 -   0.0s\n",
      "[CV] gamma=0.1, C=1000 ...............................................\n",
      "[CV] ...................... gamma=0.1, C=1000, score=0.631579 -   0.0s\n",
      "[CV] gamma=0.1, C=1000 ...............................................\n",
      "[CV] ...................... gamma=0.1, C=1000, score=0.631579 -   0.0s\n",
      "[CV] gamma=0.1, C=1000 ...............................................\n",
      "[CV] ...................... gamma=0.1, C=1000, score=0.636364 -   0.0s\n",
      "[CV] gamma=0.01, C=1000 ..............................................\n",
      "[CV] ..................... gamma=0.01, C=1000, score=0.631579 -   0.0s\n",
      "[CV] gamma=0.01, C=1000 ..............................................\n",
      "[CV] ..................... gamma=0.01, C=1000, score=0.631579 -   0.0s\n",
      "[CV] gamma=0.01, C=1000 ..............................................\n",
      "[CV] ..................... gamma=0.01, C=1000, score=0.636364 -   0.0s\n",
      "[CV] gamma=0.001, C=1000 .............................................\n",
      "[CV] .................... gamma=0.001, C=1000, score=0.894737 -   0.0s\n",
      "[CV] gamma=0.001, C=1000 .............................................\n",
      "[CV] .................... gamma=0.001, C=1000, score=0.932331 -   0.0s\n",
      "[CV] gamma=0.001, C=1000 .............................................\n",
      "[CV] .................... gamma=0.001, C=1000, score=0.916667 -   0.0s\n",
      "[CV] gamma=0.0001, C=1000 ............................................\n"
     ]
    },
    {
     "name": "stdout",
     "output_type": "stream",
     "text": [
      "[CV] ................... gamma=0.0001, C=1000, score=0.909774 -   0.0s\n",
      "[CV] gamma=0.0001, C=1000 ............................................\n",
      "[CV] ................... gamma=0.0001, C=1000, score=0.969925 -   0.0s\n",
      "[CV] gamma=0.0001, C=1000 ............................................\n",
      "[CV] ................... gamma=0.0001, C=1000, score=0.931818 -   0.0s\n"
     ]
    },
    {
     "name": "stderr",
     "output_type": "stream",
     "text": [
      "[Parallel(n_jobs=1)]: Done  75 out of  75 | elapsed:    1.8s finished\n"
     ]
    },
    {
     "data": {
      "text/plain": [
       "GridSearchCV(cv=None, error_score='raise',\n",
       "       estimator=SVC(C=1.0, cache_size=200, class_weight=None, coef0=0.0,\n",
       "  decision_function_shape='ovr', degree=3, gamma='auto', kernel='rbf',\n",
       "  max_iter=-1, probability=False, random_state=None, shrinking=True,\n",
       "  tol=0.001, verbose=False),\n",
       "       fit_params={}, iid=True, n_jobs=1,\n",
       "       param_grid={'gamma': [1, 0.1, 0.01, 0.001, 0.0001], 'C': [0.1, 1, 10, 100, 1000]},\n",
       "       pre_dispatch='2*n_jobs', refit=True, scoring=None, verbose=3)"
      ]
     },
     "execution_count": 54,
     "metadata": {},
     "output_type": "execute_result"
    }
   ],
   "source": [
    "grid.fit(X_train,y_train)"
   ]
  },
  {
   "cell_type": "markdown",
   "metadata": {},
   "source": [
    "runs the same loop with model selection to find best parameter combination, then with the best combination it runs fit again on all data passed to that fit without model selection to build a single new model with the best parameter setting."
   ]
  },
  {
   "cell_type": "code",
   "execution_count": 55,
   "metadata": {},
   "outputs": [
    {
     "data": {
      "text/plain": [
       "{'C': 10, 'gamma': 0.0001}"
      ]
     },
     "execution_count": 55,
     "metadata": {},
     "output_type": "execute_result"
    }
   ],
   "source": [
    "grid.best_params_    #best model selection score"
   ]
  },
  {
   "cell_type": "code",
   "execution_count": 56,
   "metadata": {},
   "outputs": [
    {
     "data": {
      "text/plain": [
       "SVC(C=10, cache_size=200, class_weight=None, coef0=0.0,\n",
       "  decision_function_shape='ovr', degree=3, gamma=0.0001, kernel='rbf',\n",
       "  max_iter=-1, probability=False, random_state=None, shrinking=True,\n",
       "  tol=0.001, verbose=False)"
      ]
     },
     "execution_count": 56,
     "metadata": {},
     "output_type": "execute_result"
    }
   ],
   "source": [
    "grid.best_estimator_"
   ]
  },
  {
   "cell_type": "code",
   "execution_count": 57,
   "metadata": {
    "collapsed": true
   },
   "outputs": [],
   "source": [
    "grid_predictions = grid.predict(X_test)"
   ]
  },
  {
   "cell_type": "code",
   "execution_count": 59,
   "metadata": {},
   "outputs": [
    {
     "name": "stdout",
     "output_type": "stream",
     "text": [
      "[[ 60   6]\n",
      " [  3 102]]\n",
      "             precision    recall  f1-score   support\n",
      "\n",
      "          0       0.95      0.91      0.93        66\n",
      "          1       0.94      0.97      0.96       105\n",
      "\n",
      "avg / total       0.95      0.95      0.95       171\n",
      "\n"
     ]
    }
   ],
   "source": [
    "print(confusion_matrix(y_test,grid_predictions))\n",
    "print(classification_report(y_test,grid_predictions))"
   ]
  },
  {
   "cell_type": "markdown",
   "metadata": {},
   "source": [
    "Our model is performing very well in the ~95 percentiles where as before it was predicting everything as class 1. This contrast displays the power of using a grid search with a support vector machine. Finding a good C and Gamma value using a grid search for large data sets can take a long time though."
   ]
  },
  {
   "cell_type": "code",
   "execution_count": null,
   "metadata": {
    "collapsed": true
   },
   "outputs": [],
   "source": []
  }
 ],
 "metadata": {
  "kernelspec": {
   "display_name": "Python 3",
   "language": "python",
   "name": "python3"
  },
  "language_info": {
   "codemirror_mode": {
    "name": "ipython",
    "version": 3
   },
   "file_extension": ".py",
   "mimetype": "text/x-python",
   "name": "python",
   "nbconvert_exporter": "python",
   "pygments_lexer": "ipython3",
   "version": "3.6.5"
  }
 },
 "nbformat": 4,
 "nbformat_minor": 2
}
